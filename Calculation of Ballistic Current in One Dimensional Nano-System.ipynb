{
 "cells": [
  {
   "cell_type": "markdown",
   "metadata": {},
   "source": [
    "# Introduction"
   ]
  },
  {
   "cell_type": "markdown",
   "metadata": {},
   "source": [
    "The main objective of this report is to calculate the current in a 1-D nanosystem using Landauer’s expression for ballistic current. In order to do so, first we will derive the formula for transmission coefficient using *T matrix* and verify the theoretical result using Non Equailibrium Green Function (NEGF) method numerically. Next, we will plot the current density per unit energy obtained from both methods. Finally, we will use Landauer’s expression to calculate the ballistic current. We will also disscuss the physical significance of our results in the respective sections."
   ]
  },
  {
   "cell_type": "markdown",
   "metadata": {},
   "source": [
    "# Theoretical Expression for Transmission Coefficient"
   ]
  },
  {
   "cell_type": "markdown",
   "metadata": {},
   "source": [
    "In first section we will analyze the general description of the system where electron wave is propagating towards a step potential barrier. This discussion will help us to derive some fundamental properties of *Transfer Matrix* as well as the nature of transmission coefficient. Next we will apply the results from general concept to the given system and derive a formula for transmission coefficient function for different energies."
   ]
  },
  {
   "cell_type": "markdown",
   "metadata": {},
   "source": [
    "## General Description"
   ]
  },
  {
   "cell_type": "markdown",
   "metadata": {},
   "source": [
    "The normalized propagating contant for travelling electron with energy $E$ in $z$ direction inside the step barrier potential profile $V(z)$ is given below. The extra term is used to balance the amount of  flux in the both side of the barrier. In other words, in this case both side will carry equal current.\n",
    "\\begin{equation}\n",
    "\\psi(z) =\n",
    "\\begin{cases}\n",
    "    A \\sqrt{\\frac{m_{1}}{\\hbar k_{1}}} e^{ik_{1}z} + B \\sqrt{\\frac{m_{1}}{\\hbar k_{1}}} e^{-ik_{1}z},& z< 0  \\\\\n",
    "    C \\sqrt{\\frac{m_{2}}{\\hbar k_{2}}} e^{ik_{2}z} + D \\sqrt{\\frac{m_{2}}{\\hbar k_{2}}} e^{-ik_{2}z},              & z \\geq 0\n",
    "\\end{cases}\n",
    "\\end{equation}"
   ]
  },
  {
   "cell_type": "markdown",
   "metadata": {},
   "source": [
    "where, $m_{1}$ is the effective mass at the left side of the barrier and $k_{1} = \\sqrt{\\frac{2m_{1}(E - V^{(-)})}{\\hbar^2}}$ , $m_{2}$ is the effective mass at the right side of the barrier and $k_{2} = \\sqrt{\\frac{2m_{2}(E - V^{(+)})}{\\hbar^2}}$ and potential profile,\n",
    "\\begin{equation}\n",
    "V(z) =\n",
    "\\begin{cases}\n",
    "    V^{(-)} ,&  z< 0  \\\\\n",
    "   V^{(+)}              & z \\geq 0\n",
    "\\end{cases}\n",
    "\\end{equation}"
   ]
  },
  {
   "cell_type": "markdown",
   "metadata": {},
   "source": [
    "The value and slope of the wave function must be continuous everywhere. Therefore, we get the following eqautions at $z=0$.\n",
    "\n",
    "\\begin{equation}\n",
    "\\sqrt{\\frac{m_{1}}{\\hbar k_{1}}}(A+B) = \\sqrt{\\frac{m_{2}}{\\hbar k_{2}}} (C+D),\n",
    "\\sqrt{\\frac{m_{1}}{\\hbar k_{1}}}k_{1}(A-B) = \\sqrt{\\frac{m_{2}}{\\hbar k_{2}}}k_{2}(C-D)\n",
    "\\end{equation}"
   ]
  },
  {
   "cell_type": "markdown",
   "metadata": {},
   "source": [
    "Next, we need to write down the above eqautions into matrix equation,\n",
    "\n",
    "\\begin{equation}\n",
    "\\begin{bmatrix}\n",
    "    \\sqrt{\\frac{m_{1}}{\\hbar k_{1}}}  &  \\sqrt{\\frac{m_{1}}{\\hbar k_{1}}}      \\\\\n",
    "    k_{1} \\sqrt{\\frac{m_{1}}{\\hbar k_{1}}}  &  -k_{1} \\sqrt{\\frac{m_{1}}{\\hbar k_{1}}}    \n",
    "\\end{bmatrix} \n",
    "\\begin{bmatrix}\n",
    "    A      \\\\\n",
    "    B      \n",
    "\\end{bmatrix} \n",
    "=\n",
    "\\begin{bmatrix}\n",
    "    \\sqrt{\\frac{m_{2}}{\\hbar k_{2}}}  &  \\sqrt{\\frac{m_{2}}{\\hbar k_{2}}}      \\\\\n",
    "    k_{2} \\sqrt{\\frac{m_{2}}{\\hbar k_{2}}}  &  -k_{2} \\sqrt{\\frac{m_{2}}{\\hbar k_{2}}}    \n",
    "\\end{bmatrix} \n",
    "\\begin{bmatrix}\n",
    "    C      \\\\\n",
    "    D      \n",
    "\\end{bmatrix}\n",
    "\\end{equation}"
   ]
  },
  {
   "cell_type": "markdown",
   "metadata": {},
   "source": [
    "Finally we can represent $C,D$ in terms of $A,B$.\n",
    "\n",
    "\\begin{equation}\n",
    "\\sqrt{\\frac{m_1}{4 m_2 k_2 k_1}}\n",
    "\\begin{bmatrix}\n",
    "    (k_2+k_1)  &  (k_2-k_1)      \\\\\n",
    "   (k_2-k_1)  &  (k_2+k_1)    \n",
    "\\end{bmatrix} \n",
    "\\begin{bmatrix}\n",
    "    A      \\\\\n",
    "    B      \n",
    "\\end{bmatrix} \n",
    "=\n",
    "\\begin{bmatrix}\n",
    "    C      \\\\\n",
    "    D      \n",
    "\\end{bmatrix}\n",
    "\\end{equation}"
   ]
  },
  {
   "cell_type": "markdown",
   "metadata": {},
   "source": [
    "Now we define **Transfer Matrix**,\n",
    "\n",
    "\\begin{equation}\n",
    "T(0)=\n",
    "\\sqrt{\\frac{m_{1}}{4 m_{2} k_{2} k_{1}}}\n",
    "\\begin{bmatrix}\n",
    "    (k_{2}+k_{1})  &  (k_{2}-k_{1})      \\\\\n",
    "   (k_{2}-k_{1})  &  (k_{2}+k_{1})    \n",
    "\\end{bmatrix}\n",
    "\\end{equation}"
   ]
  },
  {
   "cell_type": "markdown",
   "metadata": {},
   "source": [
    "We will need to concern about the determinat for $T(0)$ later. In order to, simplify things later we  derive the determinant of $T(0)$ here.\n",
    "\n",
    "\\begin{equation}\n",
    "det(T(0)) = \\frac{m_{1}}{4 m_{2} k_{2} k_{1}} \\big( (k_{1} + k_{2})^2 - (k_{2} - k_{1})^2 \\big) = \\frac{m_{1}}{m_{2}}\n",
    "\\end{equation}"
   ]
  },
  {
   "cell_type": "markdown",
   "metadata": {},
   "source": [
    "If we shift the barrier to the $z = +d$ location we need to add extra phase factor to the solution and the *transfer matrix* will be represented into new form,\n",
    "\\begin{equation}\n",
    "T(d)=\n",
    "\\begin{bmatrix}\n",
    "     e^{-ik_{2}d} & 0       \\\\\n",
    "     0 &  e^{ik_{2}d}   \n",
    "\\end{bmatrix} \n",
    "T(0)\n",
    "\\begin{bmatrix}\n",
    "     e^{ik_{1}d} & 0       \\\\\n",
    "     0 &  e^{-ik_{1}d}   \n",
    "\\end{bmatrix} \n",
    "\\end{equation}"
   ]
  },
  {
   "cell_type": "markdown",
   "metadata": {},
   "source": [
    "Now, the determinant of $T(d)$ can be detemined by using equation(7), which is shown below."
   ]
  },
  {
   "cell_type": "markdown",
   "metadata": {},
   "source": [
    "\\begin{equation}\n",
    "det(T(d))=\n",
    "det \\bigg(\n",
    "\\begin{bmatrix}\n",
    "     e^{-ik_{2}d} & 0       \\\\\n",
    "     0 &  e^{ik_{2}d}   \n",
    "\\end{bmatrix}\n",
    " \\bigg) \\ \n",
    "det(T(0)) \\ \n",
    "det \\bigg(\n",
    "\\begin{bmatrix}\n",
    "     e^{ik_{1}d} & 0       \\\\\n",
    "     0 &  e^{-ik_{1}d}  \n",
    "\\end{bmatrix} \n",
    "\\bigg)\n",
    "= \\frac{m_{1}}{m_{2}}\n",
    "\\end{equation}"
   ]
  },
  {
   "cell_type": "markdown",
   "metadata": {},
   "source": [
    "In order to find the flux transmission coefficient $\\mathbf{T}$. we need to find the **transfer matrix** for the whole system and then according to the construction of equation(1):\n",
    "\\begin{equation}\n",
    "\\mathbf{T} = \\frac{{|C|}^2}{{|A|}^2}\n",
    "\\end{equation}"
   ]
  },
  {
   "cell_type": "markdown",
   "metadata": {},
   "source": [
    "Some comments needed to be mentioned about this form of flux transmission coefficient. If we do not use the extra factor $\\sqrt{\\frac{m}{\\hbar k_{1}}}$. The formula for transmission coefficient would be,\n",
    "\\begin{equation}\n",
    "\\mathbf{T} = \\frac{\\nu_{2}}{\\nu_{1}} \\frac{|C'|^2}{|A'|^2}\n",
    "\\end{equation}"
   ]
  },
  {
   "cell_type": "markdown",
   "metadata": {},
   "source": [
    "where, $\\nu_{1} = \\frac{\\hbar k_{1}}{m_{1}} $ and $\\nu_2 = \\frac{\\hbar k_{2}}{m_{2}} $ are the velocities of particle with energy $E$ at the both side of the barrier. $|C'|$ and $|A'|$ are new coefficients for wave functions. Equation(1) reveals that $C' = \\frac{C}{\\sqrt{\\nu_{2}}} = \\sqrt{\\frac{m_{2}}{\\hbar k_{2}}}C$ and same for coefficient $A$. Now it is clear from equation (10), equation(11) and equation(1) that the both definitions of transmission coefficients are equivalent and will produce same results. "
   ]
  },
  {
   "cell_type": "markdown",
   "metadata": {},
   "source": [
    "Finally, the value of transmission coefficient can be easily derived from the **transfer matrix**. If we consider incident part $A = 1$ , reflected part of the wave function $B = r$, transmitted part $C = t$ and wave coming from opposite direction in the barrier $D = 0$. We can deduce the following results.\n",
    "\n",
    "\\begin{equation}\n",
    "\\begin{bmatrix}\n",
    "    T_{11}  &  T_{12}      \\\\\n",
    "    T_{21}  &  T_{22}    \n",
    "\\end{bmatrix} \n",
    "\\begin{bmatrix}\n",
    "    1      \\\\\n",
    "    r      \n",
    "\\end{bmatrix} \n",
    "=\n",
    "\\begin{bmatrix}\n",
    "    t      \\\\\n",
    "    0      \n",
    "\\end{bmatrix}\n",
    "\\implies\n",
    "\\begin{bmatrix}\n",
    "    1      \\\\\n",
    "    r      \n",
    "\\end{bmatrix} \n",
    "=\n",
    "\\frac{1}{det(T)}\n",
    "\\begin{bmatrix}\n",
    "    T_{22}  &  -T_{12}      \\\\\n",
    "   -T_{21}  &  T_{11}    \n",
    "\\end{bmatrix} \n",
    "\\begin{bmatrix}\n",
    "    t      \\\\\n",
    "    0      \n",
    "\\end{bmatrix}\n",
    "\\end{equation}\n",
    "we have,\n",
    "\\begin{equation}\n",
    "t = \\frac{det(T)}{T_{22}} , \\ r = -\\frac{T_{21}}{T_{22}}\n",
    "\\end{equation}"
   ]
  },
  {
   "cell_type": "markdown",
   "metadata": {},
   "source": [
    "Therefore, transmission coefficient, $\\mathbf{T}$ would be,\n",
    "\n",
    "\\begin{equation}\n",
    "\\mathbf{T} = \\frac{\\nu_1}{\\nu_2} |t|^2 = \\frac{\\nu_1}{\\nu_2} \\frac{\\big| \\ det(T) \\ \\big|^2}{|T_{22} |^2}\n",
    "\\end{equation}"
   ]
  },
  {
   "cell_type": "markdown",
   "metadata": {},
   "source": [
    "## Problem Specifications"
   ]
  },
  {
   "cell_type": "markdown",
   "metadata": {},
   "source": [
    "An asymmetrical rectangular barrier is used to represent a 1-D transistor, with Region 1 ($U_{1}$) being the source, Region 2 ($U_{2}$ being the channel, and Region 3 ($U_{3}$) being the drain. For a particular example,let the energies in eV to be $ {0}, {0.1}$ and $ {-0.5} $ for $U_{1}, U_{2}$ and $U_{3}$ respectively. Also the effective masses are $m_{1} = m_{3} = 0.3m_{0}$ and $m_{2} = 0.1m_{0}$ . The channel is $10 \\ nm$ long and the task is to solve for the transmission probability $\\mathbf{T}(E)$ for energies up to about $\\mathbf{10k_{B}T}$ above $U_{1}$ ."
   ]
  },
  {
   "cell_type": "markdown",
   "metadata": {},
   "source": [
    "if we translate it into **atomic unit** the formuals get changed where $1 \\ eV = 0.0367493 \\ hartree$ and $ 1 \\ nm = 18.897161646321 \\ bohr $ and mass of free electron $m_0 = 1 \\ a.u.$, Planck's reduced constant , $\\hbar = 1 \\ a.u.$"
   ]
  },
  {
   "cell_type": "markdown",
   "metadata": {},
   "source": [
    "### Potential Profile"
   ]
  },
  {
   "cell_type": "markdown",
   "metadata": {},
   "source": [
    "For our calculation we define our co-ordinate sytem at the middle of Region 2 and make both Region 1 & 3, $105 \\ bohr$ wide and the potential profile, $V(z)$ finally becomes,\n",
    "\\begin{equation}\n",
    "V(z) =\n",
    "\\begin{cases}\n",
    "    0 \\ & \\text{hartree}  ,&&  z< -95 \\ \\text{bohr}   \\\\\n",
    "    0.00367493 \\  & \\text{hartree} ,&&  -95 \\leq z \\leq 95 \\ \\text{bohr}   \\\\\n",
    "    -0.01837465 \\ & \\text{hartree} ,&&  z> 95 \\ \\text{bohr}\n",
    "\\end{cases}\n",
    "\\end{equation}"
   ]
  },
  {
   "cell_type": "markdown",
   "metadata": {},
   "source": [
    "Here, we have made a little change about the channel region. We also have taken $\\mathbf{190 \\ bohr}$ ($\\mathbf{10.05441 \\ nm}$) wide channel region which is little larger than given system. In order to get better result while calculating current, we have extended the range of energy $\\mathbf{10 \\ k_{B}T}$ to $\\mathbf{20 \\ k_{B}T}$."
   ]
  },
  {
   "cell_type": "markdown",
   "metadata": {},
   "source": [
    "## Theoretical Calculation for Given System"
   ]
  },
  {
   "cell_type": "markdown",
   "metadata": {},
   "source": [
    "Just for simplicity, Let's assume the barrier is in the region $-\\frac{d}{2} \\leq z \\leq \\frac{d}{2}$. Now the *T* matrix from region I to region II is given below."
   ]
  },
  {
   "cell_type": "markdown",
   "metadata": {},
   "source": [
    "\\begin{equation}\n",
    "T^{(21)}=\n",
    "\\begin{bmatrix}\n",
    "     e^{-ik_{2}(\\frac{-d}{2})} & 0       \\\\\n",
    "     0 &  e^{ik_{2}(\\frac{-d}{2})}   \n",
    "\\end{bmatrix} \n",
    "\\sqrt{\\frac{m_{1}}{4 m_{2} k_{2} k_{1}}}\n",
    "\\begin{bmatrix}\n",
    "    (k_{2}+k_{1})  &  (k_{2}-k_{1})      \\\\\n",
    "   (k_{2}-k_{1})  &  (k_{2}+k_{1})    \n",
    "\\end{bmatrix}\n",
    "\\begin{bmatrix}\n",
    "     e^{ik_{1}(\\frac{-d}{2})} & 0       \\\\\n",
    "     0 &  e^{-ik_{1}(\\frac{-d}{2})}   \n",
    "\\end{bmatrix} \n",
    "\\end{equation}"
   ]
  },
  {
   "cell_type": "markdown",
   "metadata": {},
   "source": [
    "Here, $k_{1} = \\sqrt{\\frac{2m_{1}(E - V_{1})}{\\hbar^2}}$ and $k_{2} = \\sqrt{\\frac{2m_{2}(E - V_{2})}{\\hbar^2}}$. Similarly, we can write *T* matrix for region II to region III,"
   ]
  },
  {
   "cell_type": "markdown",
   "metadata": {},
   "source": [
    "\\begin{equation}\n",
    "T^{(32)}=\n",
    "\\begin{bmatrix}\n",
    "     e^{-ik_{3}(\\frac{d}{2})} & 0       \\\\\n",
    "     0 &  e^{ik_{3}(\\frac{d}{2})}   \n",
    "\\end{bmatrix} \n",
    "\\sqrt{\\frac{m_{2}}{4 m_{3} k_{2} k_{3}}}\n",
    "\\begin{bmatrix}\n",
    "    (k_{3}+k_{2})  &  (k_{3}-k_{2})      \\\\\n",
    "   (k_{3}-k_{2})  &  (k_{3}+k_{2})    \n",
    "\\end{bmatrix}\n",
    "\\begin{bmatrix}\n",
    "     e^{ik_{2}(\\frac{d}{2})} & 0       \\\\\n",
    "     0 &  e^{-ik_{2}(\\frac{d}{2})}   \n",
    "\\end{bmatrix} \n",
    "\\end{equation}"
   ]
  },
  {
   "cell_type": "markdown",
   "metadata": {},
   "source": [
    "Here, $k_{3} = \\sqrt{\\frac{2m_{3}(E - V_{3})}{\\hbar^{2}}}$. The complete transfer matrix for this system would be,\n",
    "\\begin{equation}\n",
    "T^{(31)} = T^{(32)}T^{(21)}\n",
    "\\end{equation}"
   ]
  },
  {
   "cell_type": "markdown",
   "metadata": {},
   "source": [
    "But our concern is the value of $|T^{(31)}_{22}|^2$ which is needed to determine the transmission coefficient. Finally after evaluating the matrix $T^{(31)}$ we get,"
   ]
  },
  {
   "cell_type": "markdown",
   "metadata": {},
   "source": [
    "\\begin{equation}\n",
    "T^{(31)}_{22} = \\sqrt{\\frac{m_{1}}{m_{3}}}\\frac{e^{ik_{2}d}(k_{2}-k_{1})(k_{3}-k_{2})+ e^{-ik_{2}d}(k_{2}+k_{1})(k_{3}+k_{2})}{4\\sqrt{k_{1}k_{2}^{2}k_{3}}}e^{i(k_{1}+k_{3})\\frac{d}{2}}\n",
    "\\end{equation}"
   ]
  },
  {
   "cell_type": "markdown",
   "metadata": {},
   "source": [
    "Another part of our concern is the determinant of the matrix $T^{(31)}$. This can be easily determined using multiplication property of determinants."
   ]
  },
  {
   "cell_type": "markdown",
   "metadata": {},
   "source": [
    "\\begin{equation}\n",
    "det(T^{(31)}) = det(T^{(32)}) \\ det(T^{(21)})\n",
    "\\end{equation}"
   ]
  },
  {
   "cell_type": "markdown",
   "metadata": {},
   "source": [
    "Now applying the result from equation (9), we can derive the formula for $det(T^{(31)})$."
   ]
  },
  {
   "cell_type": "markdown",
   "metadata": {},
   "source": [
    "\\begin{equation}\n",
    "det(T^{(31)}) = \\frac{m_{2}}{m_{3}} \\frac{m_{1}}{m_{2}} = \\frac{m_{1}}{m_{3}}\n",
    "\\end{equation}"
   ]
  },
  {
   "cell_type": "markdown",
   "metadata": {},
   "source": [
    "Finally, we arrived at the required formula for transmission coefficient function."
   ]
  },
  {
   "cell_type": "markdown",
   "metadata": {},
   "source": [
    "\\begin{equation}\n",
    "\\mathbf{T} = \\frac{\\big| \\ det(T^{(31)}) \\ \\big|^2}{|T^{(31)}_{22}|^2} = \\frac{m_{1}}{m_{3}}\\frac{4k_{1}k_{2}^{2}k_{3}}{(k_{2}k_{3} + k_{1}k_{2})^{2}cos^{2}{k_{2}d} + (k_{2}^{2}+k_{1}k_{3})^{2}sin^{2}{k_{2}d}}\n",
    "\\end{equation}"
   ]
  },
  {
   "cell_type": "markdown",
   "metadata": {},
   "source": [
    "# NEGF Calculation"
   ]
  },
  {
   "cell_type": "markdown",
   "metadata": {},
   "source": [
    "# NEGF Formalism"
   ]
  },
  {
   "cell_type": "markdown",
   "metadata": {},
   "source": [
    "In order to find the *transmission probability*, we are going to use Non-Equilibrium Green Function (NEGF) method. From NEGF theory, Fisher-Lee relation is,\n",
    "\n",
    "\\begin{equation}\n",
    "\\mathbf{T}(E) = Tr[\\Gamma_{L}(E)G(E)\\Gamma_{R}(E)G^\\dagger(E)]\n",
    "\\end{equation}"
   ]
  },
  {
   "cell_type": "markdown",
   "metadata": {},
   "source": [
    "where, braodening matrix of left contact and right contact are $\\Gamma_{L}(E) = i[\\Sigma_{L}(E)-\\Sigma^\\dagger_{L}(E)]$ and $\\Gamma_{R}(E) = i[\\Sigma_{R}(E)-\\Sigma^\\dagger_{R}(E)]$ respectively,  $\\Sigma_{L}(E)$ and $\\Sigma_{R}(E)$ are the self energy matrix for left and right contact respectively. Furthermore, the Green function is $G(E) = {(E-i0^+I-H+\\Sigma_{L}(E)+\\Sigma_{R}(E))}^{-1}$ according to  *Appelbaum et.al.(2004)* **cite{1}** but according to *S. Datta(2005)* **cite{2}** formula for Green function is $G(E) = {(E-i0^+I-H-\\Sigma_{L}(E)-\\Sigma_{R}(E))}^{-1}$, here $H$ is the Hamiltonian of the system."
   ]
  },
  {
   "cell_type": "markdown",
   "metadata": {},
   "source": [
    "*Appelbaum et.al(2004)* suggest the following formulas for 1D constant potential calculation. For this 1D system the self energy function for left contact is given below:\n",
    "\n",
    "\\begin{equation}\n",
    "\\Sigma_{L}(E) = -t_{L}^2g_{L}(E)\\delta_{r1}\\delta_{1c}\n",
    "\\end{equation}"
   ]
  },
  {
   "cell_type": "markdown",
   "metadata": {},
   "source": [
    "where, $t_{L} = \\frac{\\hbar^2}{2m_{L}a^{2}}$ , $g_{L} = \\frac{2t_{L} + V_{L} - E \\pm \\sqrt{ (2t_{L} + V_{L} - E)^{2} - 4t_{L}^{2}}}{-2t_{L}^{2}}$ , $a$ is the sampling distance in spatial domain and $\\delta_{pq}$ is Kronecker delta function (Here $r$ and $c$ are the row and column index respectively). Similarly $\\Sigma_{R}(E)$ can be defined by changing index $L$ to $R$ and $\\delta_{r1}\\delta_{1c} \\to \\delta_{rN}\\delta_{Nc}$. Consequently, the formula for self energy is ($L$ for left and $R$ for right):\n",
    "\n",
    "\\begin{equation}\n",
    "\\Sigma_{L \\ / \\ R} = \\frac{2t_{L \\ / \\ R} + V_{L \\ / \\ R} - E \\pm \\sqrt{ (2t_{L\\ / \\ R} + V_{L \\ / \\ R} - E)^2 - 4t_{L \\ / \\ R}^2}}{2} \\ \\delta_{r1 \\ / \\ rN}\\delta_{1c \\ / \\ Nc} \n",
    "\\end{equation}"
   ]
  },
  {
   "cell_type": "markdown",
   "metadata": {},
   "source": [
    "On the other hand, *Datta (2005)* used slightly different apporach while considering one-dimensional NEGF approach . In his book, author defined the formula for self energy:\n",
    "\n",
    "\\begin{equation}\n",
    "\\Sigma (E) = - t e^{ika} \n",
    "\\end{equation}"
   ]
  },
  {
   "cell_type": "markdown",
   "metadata": {},
   "source": [
    "Here $ t = \\frac{\\hbar^{2}}{2m a^{2}} $ and the value of $ k a $ can be found from the energy formula for open system $ E = V + 2 t \\big( 1 - cos({ka}) \\big) $ . We have dropped the subscripts for simplicity. Therefore, \n",
    "\n",
    "\\begin{equation}\n",
    "ka = 1 - cos^{-1}\\big(\\frac{E - V}{2t}\\big)\n",
    "\\end{equation}\n",
    "\n",
    "The index specifications of self energy matrices are not shown here for clarity."
   ]
  },
  {
   "cell_type": "markdown",
   "metadata": {},
   "source": [
    "## Equivalence between Two Formulation"
   ]
  },
  {
   "cell_type": "markdown",
   "metadata": {},
   "source": [
    "In this subsection we are going to show the both formalism we have mentioned before. We will be using equation (26) to derive euqation (25), or we might say that we will demonstarte that both staisfy same quardatic equation. "
   ]
  },
  {
   "cell_type": "markdown",
   "metadata": {},
   "source": [
    "From equation (27) it is easy to observe that ,\n",
    "\\begin{equation}\n",
    "cos(ka) = \\frac{2t + V - E}{2t}\n",
    "\\end{equation}"
   ]
  },
  {
   "cell_type": "markdown",
   "metadata": {},
   "source": [
    "Therefore, we can rewrite the formula for equation (26):\n",
    "\\begin{equation}\n",
    "\\Sigma(E) = -t ( \\ cos(ka) + i sin(ka) \\ )= -t\\frac{2t + V - E}{2t} - it\\frac{\\sqrt{4t^{2} - (2t + V - E)^{2}}}{2t}\n",
    "\\end{equation}"
   ]
  },
  {
   "cell_type": "markdown",
   "metadata": {},
   "source": [
    "Finally we have the same form for self energy as in the equation (25)."
   ]
  },
  {
   "cell_type": "markdown",
   "metadata": {},
   "source": [
    "\\begin{equation}\n",
    "\\Sigma(E) =  -\\frac{2t + V - E \\ + \\ i\\sqrt{4t^{2} - (2t + V - E)^{2}}}{2}\n",
    "\\end{equation}"
   ]
  },
  {
   "cell_type": "markdown",
   "metadata": {},
   "source": [
    "The negative sign is due to difference in definition of self energy in two references. If $ \\sqrt{4t^{2} - (2t + V - E)^{2} } $ is positive we get a complex solution for the self energy, we can get same solution from the equation (25) when the discriminator is negative. Similarly, for negative value of  $ \\sqrt{ 4t^{2} - (2t + V - E)^{2} } $ we would obtain the equivalent result from equation (25) with negative sign. Therefore, we can conclude that, self energy $\\Sigma$ in equation (30) must satisfy, (using definition from reference **cite2**)\n",
    "\n",
    "\\begin{equation}\n",
    "\\Sigma = \\frac{t^{2}}{E - 2t - V - \\Sigma}\n",
    "\\end{equation}"
   ]
  },
  {
   "cell_type": "markdown",
   "metadata": {},
   "source": [
    "It is possible to achieve other sets of solution (given in equation (25)) of equation (31) by changing the sign of $k$ in the self energy formula given in equation (26). Physically it means, we are considering the same energy but with negative linear momentum states. Furthermore, the complex exponential is an eigen-function for semi-infinite Hamiltonian matrix which is the primary motivation for transfer matrix method. NEGF in one-dimension is just different but elegant perspective of investagating transport in nanostructures with broader reach."
   ]
  },
  {
   "cell_type": "markdown",
   "metadata": {},
   "source": [
    "In this following code snippet we are going to find transmission probability for the given system. Here we employ **both self energy function** in order to perform NEGF calculation and compare them with the theoretical formula derived before."
   ]
  },
  {
   "cell_type": "code",
   "execution_count": 36,
   "metadata": {
    "collapsed": false
   },
   "outputs": [
    {
     "name": "stdout",
     "output_type": "stream",
     "text": [
      "\n"
     ]
    },
    {
     "data": {
      "image/png": "[encoded data removed]",
      "text/plain": [
       "<IPython.core.display.Image object>"
      ]
     },
     "metadata": {},
     "output_type": "display_data"
    }
   ],
   "source": [
    "% all computations are done in atomic unit\n",
    "format long\n",
    "m1 = 0.3; m3 = 0.3;    % eff. mass in left and right contact\n",
    "m2 = 0.1;              % eff. mass in channel region\n",
    "a = 1;                 % sampling distance in (bohr)\n",
    "\n",
    "N1 = 105;              % # of data points in source region\n",
    "N2 = 190;              % # of data points in channel region \n",
    "N3 = 105;              % # of data points in drain region\n",
    "N = N1 + N2 + N3;      % # of data points total\n",
    "\n",
    "t_L = 1/2/m1/a^2;      % in atomic unit\n",
    "t_R = 1/2/m3/a^2;      % in atomic unit\n",
    "\n",
    "V1 = 0;                % pot. in left contact   0.0 eV\n",
    "V2 = 0.00367493;       % pot. in channel        0.1 eV\n",
    "V3 = -0.01837465;      % pot. im right contact -0.5 eV \n",
    "\n",
    "V = [V1*ones(1,N1),V2*ones(1,N2),V3*ones(1,N3)];\n",
    "                       % potential profile\n",
    "tau = 2*[m1*ones(1,N1),m2*ones(1,N2),m3*ones(1,N3)]*a^2;\n",
    "                       % multiplier for Hamiltonian\n",
    "H = diag(1./tau)*toeplitz([2 -1 zeros(1,N-2)]) + diag(V);\n",
    "                       % Complete Hamiltonian\n",
    "H = sparse(H);\n",
    "\n",
    "Energy = linspace(0,0.5,200) * 0.0367493; % hartree conv.\n",
    "                       % Energy sampling from 0 to 0.6 eV\n",
    "T = [];                % transmission coefficient\n",
    "\n",
    "sigma_L = sparse(zeros(N));\n",
    "                       % self energy for left contact\n",
    "sigma_R = sparse(zeros(N));\n",
    "                       % self energy for right contact\n",
    "zplus = 1i*1e-12;      % leakage part in Hamiltonian\n",
    "\n",
    "for E = Energy\n",
    "    %this section will use formula from PhysRevB.69.165301\n",
    "%     EL = 2*t_L + V1 - E;\n",
    "%     sigma_L(1,1) = (EL+sqrt(EL^2-4*t_L^2))/2;    \n",
    "%     ER = 2*t_R + V3 - E;\n",
    "%     sigma_R(N,N) = (ER+sqrt(ER^2-4*t_R^2))/2;\n",
    "%     G = inv((E+zplus)*speye(N)-H+sigma_L+sigma_R);\n",
    "\n",
    "    % this section will use formula from Datta'2005\n",
    "    EL = 1 - (E+zplus-V1)/2/t_L; ka = acos(EL);\n",
    "    sigma_L(1,1) = -t_L*exp(1i*ka);\n",
    "    ER = 1 - (E+zplus-V3)/2/t_R; kb = acos(ER);\n",
    "    sigma_R(N,N) = -t_R*exp(1i*kb);    \n",
    "    G = inv((E+zplus)*speye(N)-H-sigma_L-sigma_R);\n",
    "\n",
    "    % this section is common in both formulation\n",
    "    Gamma_L = 1i*(sigma_L-sigma_L');\n",
    "    Gamma_R = 1i*(sigma_R-sigma_R');\n",
    "    T = [T , real(trace(Gamma_L*G*Gamma_R*G'))];\n",
    "end\n",
    "figure('rend','painters','pos',[10 10 600 900])\n",
    "hold on\n",
    "plot(Energy/0.0367493,T,'linewidth',8)  % energy in electron volt\n",
    "width = 190;\n",
    "k1 = sqrt(2* m1 * (Energy-V1));\n",
    "k2 = sqrt(2* m2 * (Energy-V2));\n",
    "k3 = sqrt(2* m1 * (Energy-V3));\n",
    "T_theory = m3/m1*4*k1.*(k2.^2).*k3./((k2.*k3 + k1.*k2).^2.* ...\n",
    "    (cos(k2*width)).^2+(k2.*k2 + k1.*k3).^2.*(sin(k2*width)).^2);\n",
    "plot(Energy/0.0367493,real(T_theory),'-*', ...\n",
    "     'color',[1 0.8 0],'linewidth',1)\n",
    "plot([V2, V2]/0.0367493,[0,1],'k', 'linewidth',2)\n",
    "grid on\n",
    "legend('NEGF Calculation','Theoretical Formula', ...\n",
    "        'location','southeast')\n",
    "text(0.11, 0.95, 'Barrier Height')\n",
    "ylabel('Transmission Probability T(E)', 'fontweight','bold')\n",
    "xlabel('Energy(eV)','fontweight','bold')\n",
    "title('Theoretical and NEGF calculation of T(E)')"
   ]
  },
  {
   "cell_type": "markdown",
   "metadata": {},
   "source": [
    "### Remarks"
   ]
  },
  {
   "cell_type": "markdown",
   "metadata": {},
   "source": [
    "Quantum transmission probability is quite differnt from the classical prediction. Classically any particle with lower energy than the barrier can not cross the barrier, thus probability is zero. Moreover, classical particle with higher energy than the potential barrier must cross the barrier with no hindrance. Thus probability must be one classically. However, quantum picture is quite interesting and shows a handful of feature of low dimensional physics."
   ]
  },
  {
   "cell_type": "markdown",
   "metadata": {},
   "source": [
    "Quantum particle with energy little lesser than barrier heigh has a non-vanishing probability of transmission illustrated in the figure. Furthermore, particle with higher energy than barrier does not always pass right through it, with certainty. This happens because quantum particles can be considered as a wave packet. Although infinitely extended wave is impractical, in this case we condsider a forward moving infinitely extended wave with single energy value."
   ]
  },
  {
   "cell_type": "markdown",
   "metadata": {},
   "source": [
    "Next we consider the transmission of that wave in that barrier which is similar to microwave waveguide scattering. Thus, we found that the when the wavelength of incident wave matches the integer multiple of the length of the barrier, the wave has better transmission. On the contrary, despite having higher energy than the barrier potential, the some wave has poor transmission due to phase mismatch. As a result, we have a oscillating transmission characteristics for low energy region. But if we probe the transmission coefficient into higher region we would see the curve looses its oscillatory behavior and becomes flat to probability 1. This comes with no surprise because high energy wave has very small wavenumber, therefore this condition almost guarantees to achieve phase matching. Thus it will transmit completely. "
   ]
  },
  {
   "cell_type": "markdown",
   "metadata": {},
   "source": [
    "# $J(E)$ Calculation"
   ]
  },
  {
   "cell_type": "markdown",
   "metadata": {},
   "source": [
    "Landaurer formula for computation of current in the nano-device is simple but very elligant. By integrating that formula we will obtain the total current in this one dimensional model of transistor.\n",
    "Now the Landauer formula for one dimensional current in nano device is given below:"
   ]
  },
  {
   "cell_type": "markdown",
   "metadata": {},
   "source": [
    "\\begin{equation}\n",
    "I = \\frac{2e}{h} \\int_{-\\infty}^{\\infty} \\mathbf{T}(E) \\ [ \\ f_{0}(E-\\mu_{L}) - f_{0}(E-\\mu_{R}) \\ ] \\ dE\n",
    "\\end{equation}"
   ]
  },
  {
   "cell_type": "markdown",
   "metadata": {},
   "source": [
    "Here, $e$ is the charge of electron, $h$ is the Planck's constant, $\\mathbf{T}(E)$ is the transmission probability as a function of energy, $\\mu_{L}$ is the Fermi energy at the left side or source region and $\\mu_{R}$ is the Fermi energy at the right side or drain region and $f_{0}(E)$ is the Fermi-Dirac distribution defined in the following eqaution:\n",
    "\n",
    "\\begin{equation}\n",
    "f_{0}(E) = \\frac{1}{1+e^{\\frac{E}{k_{B}T}}}\n",
    "\\end{equation}"
   ]
  },
  {
   "cell_type": "markdown",
   "metadata": {},
   "source": [
    "The integrand of the equation (33) can be interpreted as the current density per unit of energy. So the formula for current density per unit energy, $J(E)$ would be:\n",
    "\n",
    "\\begin{equation}\n",
    "J(E) = \\frac{2e}{h} \\ \\mathbf{T}(E) [ \\ f_{0}(E - \\mu_{L}) - f_{0}(E - \\mu_{R}) \\ ]\n",
    "\\end{equation}"
   ]
  },
  {
   "cell_type": "markdown",
   "metadata": {},
   "source": [
    "Now the total current would be,\n",
    "\\begin{equation}\n",
    "I = \\int_{-\\infty}^{\\infty} J(E) \\ dE\n",
    "\\end{equation}"
   ]
  },
  {
   "cell_type": "markdown",
   "metadata": {},
   "source": [
    "The code snippet given below will use equation (34) to calculate $J(E)$. In this code snippet we used atomic unit for current density per unit energy where $1 \\ a.u \\ = 0.00662361795 \\ A$ for current: "
   ]
  },
  {
   "cell_type": "code",
   "execution_count": 38,
   "metadata": {
    "collapsed": false
   },
   "outputs": [
    {
     "name": "stdout",
     "output_type": "stream",
     "text": [
      "\n"
     ]
    },
    {
     "data": {
      "image/png": "[encoded data removed]",
      "text/plain": [
       "<IPython.core.display.Image object>"
      ]
     },
     "metadata": {},
     "output_type": "display_data"
    }
   ],
   "source": [
    "% all computations are done in atomic unit\n",
    "figure('rend','painters','pos',[10 10 600 900])\n",
    "hold on\n",
    "mu_L = 0;            % Fermi level in source region\n",
    "mu_R = -0.01837465;  % Fermi level in drain region\n",
    "e = 1;               % electron has unit charge in a.u.\n",
    "h = 2 * pi;          % Planck's constant in atomic unit\n",
    "kT = 0.025852 * 0.0367493; \n",
    "                     % kT = 0.025852 eV in room temp.\n",
    "f_L = 1./(1 + exp((Energy-mu_L)/kT));\n",
    "                     % prob. forward injection\n",
    "f_R = 1./(1 + exp((Energy-mu_R)/kT));\n",
    "                     % prob. backwared injection\n",
    "J_theory = 2*e/h*T_theory.*(f_L-f_R);\n",
    "                     % theor. result for current density\n",
    "J = 2*e/h*T.*(f_L-f_R);% NEGF result for current density\n",
    "plot(Energy/0.0367493,real(J),'linewidth',7)  \n",
    "                     % energy in electron volt\n",
    "plot(Energy/0.0367493,real(J_theory),'-*', ...\n",
    "     'color',[1 0.8 0],'linewidth',1)\n",
    "grid on\n",
    "legend('NEGF Calculation','Theoretical Formula', ...\n",
    "       'location','southeast')\n",
    "text(0.11, 0.95, 'Barrier Height')\n",
    "ylabel(['Current Density per Unit Energy J(E)', char(10), ...\n",
    "       'a.u./hartree'],...\n",
    "       'fontweight','bold')\n",
    "xlabel('Energy(eV)','fontweight','bold')\n",
    "title('Theoretical and NEGF calculation of J(E)')"
   ]
  },
  {
   "cell_type": "markdown",
   "metadata": {},
   "source": [
    "### Remarks"
   ]
  },
  {
   "cell_type": "markdown",
   "metadata": {},
   "source": [
    "Figure 2 illustrates the fact that the current density has large contribution from the energies slight above the barrier potential. Two factors have been playing the important roles here. The first one is the transmission probability and second one is the difference in the Fermi levels between the two sides of the barrier. Higher Fermi level region tries to pump the electrons from source region to drain region to achieve lower energy state. But the contact keeps the difference in Fermi level constant. Therefore, the electron current flows from left contact to right contact. \n",
    "\n",
    "However, all energy waves are not allowed to pass equally in this system. Transmission coefficient is the measure of the probability of transmission from source to drain. But the Fermi-Dirac distribution dictates the probability of an electron to occupy that energy level which decreases exponentially for high energies. That is why we receive very small current density at high energies. \n",
    "\n",
    "On the other hand, the Fermi energy at the source region is closer to the barrier potential than the drain region. Thus, the enegies around barrier potential has higher probabilty of occupying electrons than the same energy level in drain region. Consequently, those energies contributes a large current density which is evident in the figure 2."
   ]
  },
  {
   "cell_type": "markdown",
   "metadata": {},
   "source": [
    "# Total Current Calculation"
   ]
  },
  {
   "cell_type": "markdown",
   "metadata": {},
   "source": [
    "In this final section, we calculated the total current by integrating the *current density per energy* over all energy ranges using equation (35). In this code snippet we displayed both the theoretical result and result obtained from NEGF calculations in atomic and S.I. units."
   ]
  },
  {
   "cell_type": "code",
   "execution_count": 39,
   "metadata": {
    "collapsed": false,
    "scrolled": true
   },
   "outputs": [
    {
     "name": "stdout",
     "output_type": "stream",
     "text": [
      "Theoretical Result for total current is 1.7103e-06 a.u.\n",
      "NEGF Result for total Current is 1.7082e-06 a.u.\n",
      "Theoretical Result for total current is 1.1313e-08 A\n",
      "NEGF Result for total Current is 1.1299e-08 A\n",
      "\n"
     ]
    }
   ],
   "source": [
    "I_thoery = trapz( Energy, J_theory);\n",
    "                 % integrated current for theoretical result\n",
    "I = trapz( Energy, J);\n",
    "                 % integrated current for NEGF\n",
    "disp(['Theoretical Result for total current is ',...\n",
    "      num2str(I_thoery),' a.u.'])\n",
    "disp(['NEGF Result for total Current is ',...\n",
    "      num2str(I),' a.u.'])\n",
    "au2si = (1.6e-19*4.35974e-18/6.62607004e-34*(2*pi));\n",
    "        % atomic unit to SI conversion factor\n",
    "I_thoery = I_thoery*au2si;\n",
    "I = I*au2si;\n",
    "disp(['Theoretical Result for total current is ',...\n",
    "      num2str(I_thoery),' A'])\n",
    "disp(['NEGF Result for total Current is ',...\n",
    "      num2str(I),' A'])"
   ]
  },
  {
   "cell_type": "markdown",
   "metadata": {},
   "source": [
    "# Conclusion"
   ]
  },
  {
   "cell_type": "markdown",
   "metadata": {},
   "source": [
    "Landaurer formula for calculating current in nano-devices established the foundation of nano-electronics. This formula with some physical insights unravel the physics of low dimensional structures like, quantum conductance, quantum Hall effect to name a few. Our presentation here is to capture a very small essence of the far reaching aspect of Landaurer formula. Moreover, *T matrix* and *NEGF* methods shows two competing ideas of transport formalism in nano-devices. *NEGF* has a greater numerical advantage over *T matrix* because the transfer matrix method might become numerically unstable in some cases (long multiplications). However, *T matrix* offers easy insight to a physical problem, whrere *NEGF* requires some advanced treatment. Finally, we conclude that, neither of this two approaches lost their merits and both of them are essential for our understanding of quantum regime."
   ]
  },
  {
   "cell_type": "code",
   "execution_count": 4,
   "metadata": {
    "collapsed": false
   },
   "outputs": [
    {
     "name": "stdout",
     "output_type": "stream",
     "text": []
    },
    {
     "name": "stderr",
     "output_type": "stream",
     "text": []
    }
   ],
   "source": [
    "imatlab_export_fig('print-png') "
   ]
  }
 ],
 "metadata": {
  "anaconda-cloud": {},
  "kernelspec": {
   "display_name": "Matlab",
   "language": "matlab",
   "name": "matlab"
  },
  "language_info": {
   "codemirror_mode": "octave",
   "file_extension": ".m",
   "help_links": [
    {
     "text": "MetaKernel Magics",
     "url": "https://github.com/calysto/metakernel/blob/master/metakernel/magics/README.md"
    }
   ],
   "mimetype": "text/x-octave",
   "name": "matlab",
   "version": "0.15.0"
  },
  "latex_envs": {
   "LaTeX_envs_menu_present": true,
   "autoclose": false,
   "autocomplete": true,
   "bibliofile": "biblio.bib",
   "cite_by": "apalike",
   "current_citInitial": 1,
   "eqLabelWithNumbers": true,
   "eqNumInitial": 1,
   "hotkeys": {
    "equation": "Ctrl-E",
    "itemize": "Ctrl-I"
   },
   "labels_anchors": false,
   "latex_user_defs": false,
   "report_style_numbering": false,
   "user_envs_cfg": false
  }
 },
 "nbformat": 4,
 "nbformat_minor": 2
}
